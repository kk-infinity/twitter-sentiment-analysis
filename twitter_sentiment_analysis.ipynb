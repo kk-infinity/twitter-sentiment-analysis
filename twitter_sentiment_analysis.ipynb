{
 "cells": [
  {
   "cell_type": "markdown",
   "metadata": {},
   "source": [
    "# Sentiment Analysis of Twitter Data"
   ]
  },
  {
   "cell_type": "code",
   "execution_count": null,
   "metadata": {
    "scrolled": true
   },
   "outputs": [],
   "source": [
    "import tweepy\n",
    "from tweepy import OAuthHandler \n",
    "\n",
    "from nltk.sentiment.vader import SentimentIntensityAnalyzer\n",
    "from nltk import tokenize\n",
    "\n",
    "import config\n",
    "import pandas as pd\n",
    "import re"
   ]
  },
  {
   "cell_type": "markdown",
   "metadata": {},
   "source": [
    "## Fetch Twitter Data"
   ]
  },
  {
   "cell_type": "code",
   "execution_count": null,
   "metadata": {},
   "outputs": [],
   "source": [
    "def authorize_twitter_api():\n",
    "    auth = OAuthHandler(config.keys['consumer_api_key'], config.keys['consumer_api_secret_key']) \n",
    "    auth.set_access_token(config.keys['access_token'], config.keys['access_token_secret']) \n",
    "    return tweepy.API(auth)\n",
    "\n",
    "twitter_api = authorize_twitter_api()\n",
    "twitter_api"
   ]
  },
  {
   "cell_type": "code",
   "execution_count": null,
   "metadata": {},
   "outputs": [],
   "source": [
    "def fetch_tweets(keyword, no_of_tweets=10):\n",
    "    return twitter_api.search(keyword, count = no_of_tweets) "
   ]
  },
  {
   "cell_type": "code",
   "execution_count": null,
   "metadata": {},
   "outputs": [],
   "source": [
    "# Use these below variables to try out with different keywords\n",
    "keyword = 'india'\n",
    "no_of_tweets = 20"
   ]
  },
  {
   "cell_type": "code",
   "execution_count": null,
   "metadata": {
    "scrolled": false
   },
   "outputs": [],
   "source": [
    "tweets = [tweet._json for tweet in fetch_tweets(keyword, no_of_tweets)]\n",
    "tweets_df = pd.DataFrame(tweets)\n",
    "print(tweets_df.shape)\n",
    "tweets_df.head()"
   ]
  },
  {
   "cell_type": "code",
   "execution_count": null,
   "metadata": {},
   "outputs": [],
   "source": [
    "# Retaining only useful columns\n",
    "tweets_df = tweets_df[['id', 'text', 'entities']]\n",
    "tweets_df.head()"
   ]
  },
  {
   "cell_type": "markdown",
   "metadata": {},
   "source": [
    "## Pre-processing"
   ]
  },
  {
   "cell_type": "code",
   "execution_count": null,
   "metadata": {},
   "outputs": [],
   "source": [
    "# Remove unnecessary characters and also non-english characters\n",
    "def pre_process_tweet(tweet): \n",
    "        return ' '.join(re.sub(\"(RT)?\\s?(@[A-Za-z0-9]+)|([^0-9A-Za-z \\t]) |(\\w+:\\/\\/\\S+)\", \" \", tweet).split())\n",
    "\n",
    "def remove_non_ascii(tweet): \n",
    "    return \"\".join(ch for ch in tweet if ord(ch)<128)"
   ]
  },
  {
   "cell_type": "code",
   "execution_count": null,
   "metadata": {},
   "outputs": [],
   "source": [
    "tweets_df['clean_text'] = tweets_df['text'].apply(pre_process_tweet)\n",
    "tweets_df['clean_text'] = tweets_df['clean_text'].apply(remove_non_ascii)\n",
    "tweets_df['sentences'] = tweets_df['clean_text'].apply(tokenize.sent_tokenize)\n",
    "tweets_df.head()"
   ]
  },
  {
   "cell_type": "markdown",
   "metadata": {},
   "source": [
    "## Assign Sentiments to the tweets"
   ]
  },
  {
   "cell_type": "code",
   "execution_count": null,
   "metadata": {
    "scrolled": true
   },
   "outputs": [],
   "source": [
    "sid = SentimentIntensityAnalyzer()\n",
    "sentiment_scores = []\n",
    "sentiments = []\n",
    "for sentence in tweets_df.sentences:\n",
    "    ss = sid.polarity_scores(sentence)\n",
    "    sentiment_scores.append(ss['compound'])\n",
    "    sentiments.append(\"Positive\" if s>0.1 else \"negative\" if s < -0.1 else \"neutral\")\n",
    "tweets_df['sentiment_scores'] = sentiment_scores\n",
    "tweets_df['sentiment'] = sentiments\n",
    "tweets_df.head()"
   ]
  }
 ],
 "metadata": {
  "kernelspec": {
   "display_name": "basicenv",
   "language": "python",
   "name": "basicenv"
  },
  "language_info": {
   "codemirror_mode": {
    "name": "ipython",
    "version": 3
   },
   "file_extension": ".py",
   "mimetype": "text/x-python",
   "name": "python",
   "nbconvert_exporter": "python",
   "pygments_lexer": "ipython3",
   "version": "3.7.4"
  }
 },
 "nbformat": 4,
 "nbformat_minor": 2
}
